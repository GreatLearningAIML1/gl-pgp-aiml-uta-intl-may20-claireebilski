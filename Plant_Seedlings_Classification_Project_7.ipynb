{
  "nbformat": 4,
  "nbformat_minor": 0,
  "metadata": {
    "colab": {
      "name": "Plant Seedlings Classification Project 7.ipynb",
      "provenance": [],
      "collapsed_sections": [],
      "toc_visible": true
    },
    "kernelspec": {
      "name": "python3",
      "display_name": "Python 3"
    },
    "accelerator": "GPU"
  },
  "cells": [
    {
      "cell_type": "code",
      "metadata": {
        "id": "3cVKbxufGwXk",
        "outputId": "f8f11294-551c-4240-fb62-e366b77cf0f1",
        "colab": {
          "base_uri": "https://localhost:8080/"
        }
      },
      "source": [
        "from google.colab import drive\n",
        "drive.mount('/content/drive')"
      ],
      "execution_count": 4,
      "outputs": [
        {
          "output_type": "stream",
          "text": [
            "Mounted at /content/drive\n"
          ],
          "name": "stdout"
        }
      ]
    },
    {
      "cell_type": "markdown",
      "metadata": {
        "id": "JLoQi4aGHb7E"
      },
      "source": [
        "Context: Can you differentiate a weed from a crop seedling?\n",
        "\n",
        "Objective: To implement the techniques learnt as a part of the course.\n",
        "\n",
        "\n",
        " use  the  dataset  path  in  the  Google  Colab  notebook  to  do  further  steps  related  to  project  problem statement.\n",
        "You can set runtime type to “GPU” in Google Colab\n",
        "\n",
        "Steps and tasks:\n",
        "1.Import the libraries, load dataset, print shape of data, visualize the images in dataset. (5 Marks)\n",
        "2.Data Pre-processing: (15 Marks)a.Normalization. b.Gaussian Blurring. c.Visualize data after pre-processing.\n",
        "3.Make data compatible: (10 Marks) a.Convert labels to one-hot-vectors. b.Print the label for y_train[0] .c.Split the dataset into training,testing, and validation set.(Hint: First split images andlabels into training and testing set with test_size = 0.3. Then further split test data into test and validation set with test_size = 0.5) d.Check  the  shape  of  data, Reshape  data  into  shapes compatible with Keras models if it’s not already. If it’s already in the compatible shape, then comment in the notebook that it’s already in compatible shape.\n",
        "4.Building CNN: (15 Marks) a.Define layers. b.Set optimizer and loss function. (Use Adam optimizer and categorical crossentropy.)\n",
        "5.Fit and evaluate model and print confusion matrix. (10 Marks)\n",
        "6.Visualize predictions for x_test[2], x_test[3], x_test[33], x_test[36], x_test[59]. (5 Marks)\n",
        "Note: The data provided to you on Olympus has only train images and their labels. For our purpose we use this for our training and testing and validation purpose.\n"
      ]
    },
    {
      "cell_type": "code",
      "metadata": {
        "id": "zF3KjXj0kvrK"
      },
      "source": [
        "# Step 1\n",
        "# Import necessary modules.\n",
        "\n",
        "import cv2\n",
        "import numpy as np\n",
        "import pandas as pd\n",
        "\n",
        "import seaborn as sns\n",
        "import matplotlib.pyplot as plt\n",
        "%matplotlib inline\n",
        "\n",
        "from sklearn import svm\n",
        "from sklearn.model_selection import train_test_split\n",
        "\n",
        "from tensorflow.keras import datasets, models, layers, optimizers\n",
        "from tensorflow.keras.preprocessing.image import ImageDataGenerator\n",
        "from tensorflow.keras.callbacks import ModelCheckpoint, EarlyStopping\n",
        "from google.colab.patches import cv2_imshow"
      ],
      "execution_count": 8,
      "outputs": []
    },
    {
      "cell_type": "code",
      "metadata": {
        "id": "di_a2Ji3SC3u"
      },
      "source": [
        "data = pd.read_csv('/Labels.csv')    # Load the dataset by providing the path to the file."
      ],
      "execution_count": 11,
      "outputs": []
    },
    {
      "cell_type": "code",
      "metadata": {
        "id": "nBG_uOY2SGo4",
        "outputId": "966a7a7e-5b36-4bbf-bedc-de869e64ebb5",
        "colab": {
          "base_uri": "https://localhost:8080/",
          "height": 204
        }
      },
      "source": [
        "data.head()"
      ],
      "execution_count": 12,
      "outputs": [
        {
          "output_type": "execute_result",
          "data": {
            "text/html": [
              "<div>\n",
              "<style scoped>\n",
              "    .dataframe tbody tr th:only-of-type {\n",
              "        vertical-align: middle;\n",
              "    }\n",
              "\n",
              "    .dataframe tbody tr th {\n",
              "        vertical-align: top;\n",
              "    }\n",
              "\n",
              "    .dataframe thead th {\n",
              "        text-align: right;\n",
              "    }\n",
              "</style>\n",
              "<table border=\"1\" class=\"dataframe\">\n",
              "  <thead>\n",
              "    <tr style=\"text-align: right;\">\n",
              "      <th></th>\n",
              "      <th>Label</th>\n",
              "    </tr>\n",
              "  </thead>\n",
              "  <tbody>\n",
              "    <tr>\n",
              "      <th>0</th>\n",
              "      <td>Small-flowered Cranesbill</td>\n",
              "    </tr>\n",
              "    <tr>\n",
              "      <th>1</th>\n",
              "      <td>Small-flowered Cranesbill</td>\n",
              "    </tr>\n",
              "    <tr>\n",
              "      <th>2</th>\n",
              "      <td>Small-flowered Cranesbill</td>\n",
              "    </tr>\n",
              "    <tr>\n",
              "      <th>3</th>\n",
              "      <td>Small-flowered Cranesbill</td>\n",
              "    </tr>\n",
              "    <tr>\n",
              "      <th>4</th>\n",
              "      <td>Small-flowered Cranesbill</td>\n",
              "    </tr>\n",
              "  </tbody>\n",
              "</table>\n",
              "</div>"
            ],
            "text/plain": [
              "                       Label\n",
              "0  Small-flowered Cranesbill\n",
              "1  Small-flowered Cranesbill\n",
              "2  Small-flowered Cranesbill\n",
              "3  Small-flowered Cranesbill\n",
              "4  Small-flowered Cranesbill"
            ]
          },
          "metadata": {
            "tags": []
          },
          "execution_count": 12
        }
      ]
    },
    {
      "cell_type": "code",
      "metadata": {
        "id": "6u_09biUSHuq",
        "outputId": "0f9f3f80-d940-4920-e42a-d37181d8c4d6",
        "colab": {
          "base_uri": "https://localhost:8080/"
        }
      },
      "source": [
        "# Print the shape of data.\n",
        "data.shape\n"
      ],
      "execution_count": 13,
      "outputs": [
        {
          "output_type": "execute_result",
          "data": {
            "text/plain": [
              "(4750, 1)"
            ]
          },
          "metadata": {
            "tags": []
          },
          "execution_count": 13
        }
      ]
    },
    {
      "cell_type": "code",
      "metadata": {
        "id": "kB-0TB2KzU1h"
      },
      "source": [
        "y = data[\"Label\"]"
      ],
      "execution_count": 14,
      "outputs": []
    },
    {
      "cell_type": "code",
      "metadata": {
        "id": "9Npdt8TOzgFX",
        "outputId": "9b088c3a-eade-4066-a19a-a0337479d747",
        "colab": {
          "base_uri": "https://localhost:8080/",
          "height": 554
        }
      },
      "source": [
        "#Visualie the images in the dataset.\n",
        "g = sns.countplot(y)\n",
        "y.value_counts()"
      ],
      "execution_count": 15,
      "outputs": [
        {
          "output_type": "stream",
          "text": [
            "/usr/local/lib/python3.6/dist-packages/seaborn/_decorators.py:43: FutureWarning: Pass the following variable as a keyword arg: x. From version 0.12, the only valid positional argument will be `data`, and passing other arguments without an explicit keyword will result in an error or misinterpretation.\n",
            "  FutureWarning\n"
          ],
          "name": "stderr"
        },
        {
          "output_type": "execute_result",
          "data": {
            "text/plain": [
              "Loose Silky-bent             654\n",
              "Common Chickweed             611\n",
              "Scentless Mayweed            516\n",
              "Small-flowered Cranesbill    496\n",
              "Fat Hen                      475\n",
              "Charlock                     390\n",
              "Sugar beet                   385\n",
              "Cleavers                     287\n",
              "Black-grass                  263\n",
              "Shepherds Purse              231\n",
              "Common wheat                 221\n",
              "Maize                        221\n",
              "Name: Label, dtype: int64"
            ]
          },
          "metadata": {
            "tags": []
          },
          "execution_count": 15
        },
        {
          "output_type": "display_data",
          "data": {
            "image/png": "[encoded data removed]",
            "text/plain": [
              "<Figure size 432x288 with 1 Axes>"
            ]
          },
          "metadata": {
            "tags": [],
            "needs_background": "light"
          }
        }
      ]
    },
    {
      "cell_type": "code",
      "metadata": {
        "id": "mHs6qP4jo_T_"
      },
      "source": [
        "dataset = np.load('/images.npy')"
      ],
      "execution_count": null,
      "outputs": []
    },
    {
      "cell_type": "code",
      "metadata": {
        "id": "fiwUdu-93fWe"
      },
      "source": [
        "dataset.reshape((4750,128,-1))"
      ],
      "execution_count": null,
      "outputs": []
    },
    {
      "cell_type": "code",
      "metadata": {
        "id": "tIh31KI0qBgN"
      },
      "source": [
        "dataset.shape"
      ],
      "execution_count": null,
      "outputs": []
    },
    {
      "cell_type": "code",
      "metadata": {
        "id": "A66qIVSnz2qg"
      },
      "source": [
        "X = dataset # Convert the features (pixel values) to numpy array to feed into the supervised learning model.\n",
        "y = y.values # Convert the labels to numpy array to feed into the supervised learning model."
      ],
      "execution_count": null,
      "outputs": []
    },
    {
      "cell_type": "code",
      "metadata": {
        "id": "eEoI4Wjs1ukl"
      },
      "source": [
        "X.shape"
      ],
      "execution_count": null,
      "outputs": []
    },
    {
      "cell_type": "code",
      "metadata": {
        "id": "x3j662UX0M84"
      },
      "source": [
        "# Split data into test and train to build the model.\n",
        "X_train, X_test, y_train, y_test = train_test_split(X, y, train_size=0.75, random_state=0)"
      ],
      "execution_count": null,
      "outputs": []
    },
    {
      "cell_type": "code",
      "metadata": {
        "id": "ABkHdEG-0RBx"
      },
      "source": [
        "type(X_train) # As we can see that the data to be fed into model is of the type numpy array."
      ],
      "execution_count": null,
      "outputs": []
    },
    {
      "cell_type": "code",
      "metadata": {
        "id": "umObWk520Yti"
      },
      "source": [
        "i = 0\n",
        "image = X_train[i]\n",
        "label = y_train[i][0]\n",
        "plt.imshow(image);"
      ],
      "execution_count": null,
      "outputs": []
    },
    {
      "cell_type": "code",
      "metadata": {
        "id": "8XQHYSh94Eq_"
      },
      "source": [
        "sobel = cv2.Sobel(image, cv2.CV_64F, 1, 1, ksize=5)\n",
        "plt.imshow(sobel)"
      ],
      "execution_count": null,
      "outputs": []
    },
    {
      "cell_type": "code",
      "metadata": {
        "id": "gEJp8uTN4eq8"
      },
      "source": [
        "# Step 2"
      ],
      "execution_count": null,
      "outputs": []
    },
    {
      "cell_type": "code",
      "metadata": {
        "id": "mqD9jDH35OJa"
      },
      "source": [
        "# Normalize the data\n",
        "X = X.astype('float32') / 255.0"
      ],
      "execution_count": null,
      "outputs": []
    },
    {
      "cell_type": "code",
      "metadata": {
        "id": "N5BuS4EL6efF"
      },
      "source": [
        "print(len(X)) # Check the number of rows in the dataset.\n",
        "print(X.shape) "
      ],
      "execution_count": null,
      "outputs": []
    },
    {
      "cell_type": "code",
      "metadata": {
        "id": "q90BHoHz8jeH"
      },
      "source": [
        "new_x = np.empty((4750, 128, 128)) "
      ],
      "execution_count": null,
      "outputs": []
    },
    {
      "cell_type": "code",
      "metadata": {
        "id": "zcu6nI7y9FW5"
      },
      "source": [
        "X.shape"
      ],
      "execution_count": null,
      "outputs": []
    },
    {
      "cell_type": "code",
      "metadata": {
        "id": "gCt_bRu38_v8"
      },
      "source": [
        "# Gaussian blurring\n",
        "X_new = np.apply_along_axis(\n",
        "    lambda img: cv2.GaussianBlur(img, (5, 5), 0), \n",
        "    -1, \n",
        "    X.reshape((-1, 128, 128))\n",
        ")\n",
        "X_new = X_new.reshape((-1, 128, 128))\n",
        "plt.imshow(X_new[3], cmap='gray')"
      ],
      "execution_count": null,
      "outputs": []
    },
    {
      "cell_type": "code",
      "metadata": {
        "id": "bjjBdAiuADfC"
      },
      "source": [
        "# Visualize the data\n",
        "df = pd.DataFrame({'A' : np.random.randn(8),\n",
        "                   'B' : np.random.randn(8),\n",
        "                   'C' : np.random.randn(8)})\n",
        "df"
      ],
      "execution_count": null,
      "outputs": []
    },
    {
      "cell_type": "code",
      "metadata": {
        "id": "QtYWe3byAHVQ"
      },
      "source": [
        "df.apply(lambda row: row.mean(), axis=1)"
      ],
      "execution_count": null,
      "outputs": []
    },
    {
      "cell_type": "code",
      "metadata": {
        "id": "VztNWziAAMEA"
      },
      "source": [
        "# Now we create another empty numpy array of 4750 rows and 16384 columns shape, to store the pixel values, which are obtained by applying the Gaussian Blur.\n",
        "# The new array is necessary as we have to feed the data in the model in this original format.\n",
        "another_x = np.empty((4750, 16384))"
      ],
      "execution_count": null,
      "outputs": []
    },
    {
      "cell_type": "code",
      "metadata": {
        "id": "Tv79V2AOAXd-"
      },
      "source": [
        "# Append/Set the values of the another array to be fed into model equal to the flattened array, which has the shape of 784 pixels (1-D)\n",
        "for idx, img in enumerate(new_x):\n",
        "  another_x[idx] = img.flatten()"
      ],
      "execution_count": null,
      "outputs": []
    },
    {
      "cell_type": "code",
      "metadata": {
        "id": "ska0bgWCAc0c"
      },
      "source": [
        "plt.hist(another_x[1])"
      ],
      "execution_count": null,
      "outputs": []
    },
    {
      "cell_type": "code",
      "metadata": {
        "id": "yoNg1Mhm4nMv"
      },
      "source": [
        "# Step 3 "
      ],
      "execution_count": null,
      "outputs": []
    },
    {
      "cell_type": "code",
      "metadata": {
        "id": "TUdqAeiPp44m"
      },
      "source": [
        "# Convert labels to one hot vectors\n",
        "\n",
        "from sklearn.preprocessing import LabelBinarizer\n",
        "enc = LabelBinarizer()\n",
        "y_train = enc.fit_transform(y_train)\n",
        "y_test = enc.fit_transform(y_test)"
      ],
      "execution_count": null,
      "outputs": []
    },
    {
      "cell_type": "code",
      "metadata": {
        "id": "ytFLn2Vn_6pc"
      },
      "source": [
        "print(y_train.shape)\n",
        "print(y_test.shape)"
      ],
      "execution_count": null,
      "outputs": []
    },
    {
      "cell_type": "code",
      "metadata": {
        "id": "UPLSkWYR_74W"
      },
      "source": [
        "# Print y_train[0]\n",
        "y_train[0]"
      ],
      "execution_count": null,
      "outputs": []
    },
    {
      "cell_type": "code",
      "metadata": {
        "id": "39nD2pNP5vRg"
      },
      "source": [
        "# Split the dataset into training,testing, and validation set.(Hint: First split images andlabels into training and testing set with test_size = 0.3. Then further split test data into test and validation set with test_size = 0.5)\n",
        "X_train = X_train.reshape(X_train.shape[0], 128, 128, 3)\n",
        "X_test = X_test.reshape(X_test.shape[0], 128, 128, 3)\n",
        "\n",
        "# Print the shape of the data. It is in the proper shape.  \n",
        "print(X_train.shape)\n",
        "print(X_test.shape)"
      ],
      "execution_count": null,
      "outputs": []
    },
    {
      "cell_type": "code",
      "metadata": {
        "id": "0rnQdKJ_BMxV"
      },
      "source": [
        "# Step 4\n",
        "# 4.Building CNN: (15 Marks) "
      ],
      "execution_count": null,
      "outputs": []
    },
    {
      "cell_type": "markdown",
      "metadata": {
        "id": "simAY1BPBhAB"
      },
      "source": [
        "<h1>Create the Model:<h1/>\n",
        "\n",
        "- Convolutional input layer, 32 feature maps with a size of 5×5 and a rectifier activation function.\n",
        "- Batch Normalization Layer.\n",
        "- Convolutional layer, 32 feature maps with a size of 5×5 and a rectifier activation function.\n",
        "- Batch Normalization layer.\n",
        "- Max Pool layer with size 2×2.\n",
        "- Dropout layer at 25%.\n",
        "---\n",
        "- Convolutional layer, 64 feature maps with a size of 3×3 and a rectifier activation function.\n",
        "- Batch Normalization layer.\n",
        "- Dropout layer at 25%.\n",
        "- Convolutional layer, 64 feature maps with a size of 3×3 and a rectifier activation function.\n",
        "- Batch Normalization layer.\n",
        "- Max Pool layer with size 2×2.\n",
        "- Dropout layer at 25%.\n",
        "---\n",
        "- GlobalMaxPooling2D layer.\n",
        "- Fully connected layer with 256 units and a rectifier activation function.\n",
        "- Dropout layer at 50%.\n",
        "- Fully connected output layer with 10 units and a softmax activation function."
      ]
    },
    {
      "cell_type": "code",
      "metadata": {
        "id": "hd4qw2Q35Ndi"
      },
      "source": [
        "# Set the CNN model\n",
        "# Define layers\n",
        "batch_size = None\n",
        "\n",
        "model = models.Sequential()\n",
        "model.add(layers.Conv2D(32, (5, 5), padding='same', activation=\"relu\", input_shape=X_train.shape[1:]))\n",
        "model.add(layers.BatchNormalization())\n",
        "model.add(layers.MaxPooling2D((2, 2)))\n",
        "model.add(layers.Dropout(0.2))\n",
        "model.add(layers.Conv2D(64, (5, 5), padding='same', activation=\"relu\"))\n",
        "model.add(layers.BatchNormalization())\n",
        "model.add(layers.MaxPooling2D((2, 2)))\n",
        "model.add(layers.Dropout(0.3))\n",
        "model.add(layers.Conv2D(64, (3, 3), padding='same', activation=\"relu\"))\n",
        "model.add(layers.BatchNormalization())\n",
        "model.add(layers.MaxPooling2D((2, 2)))\n",
        "model.add(layers.Dropout(0.4))\n",
        "model.add(layers.Conv2D(64, (3, 3), padding='same', activation=\"relu\"))\n",
        "model.add(layers.BatchNormalization())\n",
        "model.add(layers.MaxPooling2D((2, 2)))\n",
        "model.add(layers.Dropout(0.5))\n",
        "\n",
        "model.add(layers.GlobalMaxPooling2D())\n",
        "model.add(layers.Dense(256, activation=\"relu\"))\n",
        "model.add(layers.Dropout(0.5))\n",
        "model.add(layers.Dense(12, activation=\"softmax\"))\n",
        "\n",
        "model.summary()"
      ],
      "execution_count": null,
      "outputs": []
    },
    {
      "cell_type": "markdown",
      "metadata": {
        "id": "R76ytslbB5p8"
      },
      "source": [
        "# Number of parameters in the CNN layers:\n",
        "\n",
        "- ## Number of Parameters of a Conv Layer:\n",
        "In a CNN, each layer has two kinds of parameters : weights and biases. The total number of parameters is just the sum of all weights and biases.\n",
        "\n",
        "  Let’s define,\n",
        "\n",
        "  - W_c = Number of weights of the Conv Layer.\n",
        "  - B_c = Number of biases of the Conv Layer.\n",
        "  - P_c = Number of parameters of the Conv Layer.\n",
        "  - K = Size (width) of kernels used in the Conv Layer.\n",
        "  - N = Number of kernels.\n",
        "  - C = Number of channels of the input image.\n",
        "\n",
        "    W<sub>c</sub> = K<sup>2</sup> x C x N\n",
        "    \n",
        "    B<sub>c</sub> = N\n",
        "\n",
        "    P<sub>c</sub> = W<sub>c</sub> + B<sub>c</sub>\n",
        "\n",
        "\n",
        "  So, we will use this formulae for our parameter calculation of first layer:\n",
        "    \n",
        "    model.add(layers.Conv2D(32, (5, 5), padding='same', activation=\"relu\", input_shape=x_train.shape[1:]))\n",
        "\n",
        "  So the number of parameters is given by:\n",
        "\n",
        "  Number of weights = W<sub>c</sub> = 5<sup>2</sup> x 3 x 32 = 2400\n",
        "\n",
        "  Number of biases = B<sub>c</sub> = 32\n",
        "\n",
        "  Total number of parameters for this layer = P<sub>c</sub> = 2400 + 32 = 2432\n",
        "\n",
        "\n",
        "  We can verify this number by looking at the model summary.\n",
        "\n",
        "    conv2d (Conv2D)              (None, 32, 32, 32)        2432\n",
        "\n",
        "- ## Number of Parameters of a MaxPool Layer:\n",
        "There are no parameters associated with a MaxPool layer. The pool size, stride, and padding are hyperparameters.\n",
        "\n",
        "- ## Number of Parameters of a Fully Connected (FC) Layer:\n",
        "There are two kinds of fully connected layers in a CNN. The first FC layer is connected to the last Conv Layer, while later FC layers are connected to other FC layers. Let’s consider each case separately.\n",
        "\n",
        "  - ### Case 1: Number of Parameters of a Fully Connected (FC) Layer connected to a Conv Layer:\n",
        "  Let’s define,\n",
        "\n",
        "    W_{cf} = Number of weights of a FC Layer which is connected to a Conv Layer.\n",
        "\n",
        "    B_{cf} = Number of biases of a FC Layer which is connected to a Conv Layer.\n",
        "    \n",
        "    O = Size (width) of the output image of the previous Conv Layer.\n",
        "    \n",
        "    N = Number of kernels in the previous Conv Layer.\n",
        "    \n",
        "    F = Number of neurons in the FC Layer.\n",
        "\n",
        "      - W<sub>cf</sub> = O<sup>2</sup> x N x F\n",
        "    \n",
        "      - B<sub>cf</sub> = F\n",
        "\n",
        "      - P<sub>cf</sub> = W<sub>cf</sub> + B<sub>cf</sub>\n",
        "\n",
        "    Example: The first fully connected layer of our model is connected to a Conv Layer. For this layer, O = 1 (the width and height of image after global maxpooling), N = 64 and F = 256. Therefore,\n",
        "\n",
        "      - Number of weights = W<sub>cf</sub> = 1<sup>2</sup> x 64 x 256 = 16384\n",
        "\n",
        "      - Number of biases = B<sub>c</sub> = 256\n",
        "\n",
        "      - Total number of parameters for this layer = P<sub>c</sub> = 16384 + 256 = 16640\n",
        "\n",
        "    We can verify this number by looking at the model summary.\n",
        "      \n",
        "            dense (Dense)                (None, 256)               16640 \n",
        "\n",
        "  - ### Case 2: Number of Parameters of a Fully Connected (FC) Layer connected to a FC Layer\n",
        "  Let’s define,\n",
        "\n",
        "    W<sub>ff</sub> = Number of weights of a FC Layer which is connected to an FC Layer.\n",
        "\n",
        "    B<sub>ff</sub> = Number of biases of a FC Layer which is connected to an FC Layer.\n",
        "    \n",
        "    P<sub>ff</sub> = Number of parameters of a FC Layer which is connected to an FC Layer.\n",
        "    \n",
        "    F = Number of neurons in the FC Layer.\n",
        "    \n",
        "    F<sub>-1</sub> = Number of neurons in the previous FC Layer.\n",
        "\n",
        "      - W<sub>ff</sub> = F<sub>-1</sub> x F\n",
        "\n",
        "      - B<sub>ff</sub> = F\n",
        "\n",
        "      - P<sub>ff</sub> = W<sub>ff</sub> + B<sub>ff</sub>\n",
        "\n",
        "    In the above equation, **F<sub>-1</sub> x F** is the total number of connection weights from neurons of the previous FC Layer the neurons of the current FC Layer. The total number of biases is the same as the number of neurons (F).\n",
        "\n",
        "    Example: The last fully connected layer of AlexNet is connected to an FC Layer. For this layer, **F<sub>-1</sub>** = 256 and **F** = 10. Therefore,\n",
        "\n",
        "      - Number of weights = W<sub>cf</sub> = 256 x 10 = 2560\n",
        "\n",
        "      - Number of biases = B<sub>c</sub> = 10\n",
        "\n",
        "      - Total number of parameters for this layer = P<sub>c</sub> = 2560 + 10 = 2570\n",
        "\n",
        "    We can verify this number by looking at the model summary.\n",
        "      \n",
        "            dense_1 (Dense)              (None, 10)                2570"
      ]
    },
    {
      "cell_type": "code",
      "metadata": {
        "id": "O896U4lXBUFh"
      },
      "source": [
        "# initiate Adam optimizer\n",
        "opt = optimizers.Adam(learning_rate=0.001, beta_1=0.9, beta_2=0.999, epsilon=1e-08)"
      ],
      "execution_count": null,
      "outputs": []
    },
    {
      "cell_type": "code",
      "metadata": {
        "id": "Zr6qxvhHBU10"
      },
      "source": [
        "# Let's train the model using RMSprop\n",
        "model.compile(loss='categorical_crossentropy',\n",
        "              optimizer=opt,\n",
        "              metrics=['accuracy'])"
      ],
      "execution_count": null,
      "outputs": []
    },
    {
      "cell_type": "code",
      "metadata": {
        "id": "p3qPCglxCEMr"
      },
      "source": [
        "# Network structure is summarized which confirms our design was implemented correctly.\n",
        "model.summary()"
      ],
      "execution_count": null,
      "outputs": []
    },
    {
      "cell_type": "code",
      "metadata": {
        "id": "MP81fOFdCV6Y"
      },
      "source": [
        "X_train = X_train.astype('float32') # Conversion to float type from integer type.\n",
        "X_test = X_test.astype('float32')\n",
        "X_train /= 255.0 # Division by 255\n",
        "X_test /= 255.0"
      ],
      "execution_count": null,
      "outputs": []
    },
    {
      "cell_type": "code",
      "metadata": {
        "id": "qkLTigpfCb3e"
      },
      "source": [
        "#Adding Early stopping callback to the fit function is going to stop the training,\n",
        "#if the val_loss is not going to change even '0.001' for more than 10 continous epochs\n",
        "from tensorflow.keras.callbacks import ModelCheckpoint, EarlyStopping\n",
        "\n",
        "early_stopping = EarlyStopping(monitor='val_loss', min_delta=0.001, patience=10)\n",
        "\n",
        "#Adding Model Checkpoint callback to the fit function is going to save the weights whenever val_loss achieves a new low value. \n",
        "#Hence saving the best weights occurred during training\n",
        "\n",
        "model_checkpoint =  ModelCheckpoint('cifar_cnn_checkpoint_{epoch:02d}_loss{val_loss:.4f}.h5',\n",
        "                                                           monitor='val_loss',\n",
        "                                                           verbose=1,\n",
        "                                                           save_best_only=True,\n",
        "                                                           save_weights_only=True,\n",
        "                                                           mode='auto',\n",
        "                                                           period=1)"
      ],
      "execution_count": null,
      "outputs": []
    },
    {
      "cell_type": "code",
      "metadata": {
        "id": "DEp_CBtQCfPq"
      },
      "source": [
        "X_train = X_train.reshape(X_train.shape[0], 128, 128, 3)\n",
        "X_test = X_test.reshape(X_test.shape[0], 128, 128, 3)\n",
        "\n",
        "print(X_train.shape)\n",
        "print(X_test.shape)"
      ],
      "execution_count": null,
      "outputs": []
    },
    {
      "cell_type": "code",
      "metadata": {
        "id": "EIhb1CsZCOjy"
      },
      "source": [
        "#Step 5.Fit and evaluate model and print confusion matrix. (10 Marks)"
      ],
      "execution_count": null,
      "outputs": []
    },
    {
      "cell_type": "code",
      "metadata": {
        "id": "s9-bIsflQuSV"
      },
      "source": [
        "# Set the batch size, number of epochs.\n",
        "batch_size = 30\n",
        "num_classes = 12\n",
        "epochs = 40\n",
        "num_predictions = 20"
      ],
      "execution_count": null,
      "outputs": []
    },
    {
      "cell_type": "code",
      "metadata": {
        "id": "TzAClUba5rW1"
      },
      "source": [
        "# Fit the model \n",
        "history = model.fit(X_train,\n",
        "                    y_train,\n",
        "                    batch_size=batch_size,\n",
        "                    epochs=epochs,\n",
        "                    validation_data=(X_test, y_test),\n",
        "                    shuffle=True,\n",
        "                    verbose=1,\n",
        "                    callbacks=[early_stopping,model_checkpoint])\n",
        "\n",
        "# plot training history\n",
        "plt.plot(history.history['loss'], label='train')\n",
        "plt.plot(history.history['val_loss'], label='test')\n",
        "plt.legend()\n",
        "plt.show()"
      ],
      "execution_count": null,
      "outputs": []
    },
    {
      "cell_type": "code",
      "metadata": {
        "id": "0apqt1Z95nNJ"
      },
      "source": [
        "# Score trained model\n",
        "scores = model.evaluate(X_train, y_train, verbose=1)\n",
        "print('Test loss:', scores[0])\n",
        "print('Test accuracy:', scores[1])"
      ],
      "execution_count": null,
      "outputs": []
    },
    {
      "cell_type": "code",
      "metadata": {
        "id": "Jk3CeSv4C_rY"
      },
      "source": [
        "from sklearn.metrics import classification_report, confusion_matrix"
      ],
      "execution_count": null,
      "outputs": []
    },
    {
      "cell_type": "code",
      "metadata": {
        "id": "LUturlDjS4JT"
      },
      "source": [
        "# Confusion Matrix\n",
        "print(\"=== Confusion Matrix ===\")\n",
        "cm = confusion_matrix(y_test, y_pred=)\n",
        "print(cm)"
      ],
      "execution_count": null,
      "outputs": []
    },
    {
      "cell_type": "code",
      "metadata": {
        "id": "hkAnvZkhS6P-"
      },
      "source": [
        "df_cm = pd.DataFrame(cm, index = [i for i in \"0123456789\"],\n",
        "                     columns = [i for i in \"0123456789\"])\n",
        "plt.figure(figsize = (10,7))\n",
        "sns.heatmap(df_cm, annot=True, fmt='d')"
      ],
      "execution_count": null,
      "outputs": []
    },
    {
      "cell_type": "code",
      "metadata": {
        "id": "aj72xJHHS8Xw"
      },
      "source": [
        "print(\"=== Classification Report ===\")\n",
        "print(classification_report(X_test, y_test))"
      ],
      "execution_count": null,
      "outputs": []
    },
    {
      "cell_type": "code",
      "metadata": {
        "id": "SBRuQpxhC4MX"
      },
      "source": [
        "#Step 6.Visualize predictions for x_test[2], x_test[3], x_test[33], x_test[36], x_test[59]. "
      ],
      "execution_count": null,
      "outputs": []
    },
    {
      "cell_type": "code",
      "metadata": {
        "id": "zdnABTfrQyup"
      },
      "source": [
        "i = 0\n",
        "image = X_test[2]\n",
        "label = y_test[i][0]\n",
        "plt.imshow(image);"
      ],
      "execution_count": null,
      "outputs": []
    },
    {
      "cell_type": "code",
      "metadata": {
        "id": "yosjAjw1RtUg"
      },
      "source": [
        "i = 0\n",
        "image = X_test[3]\n",
        "label = y_test[i][0]\n",
        "plt.imshow(image);"
      ],
      "execution_count": null,
      "outputs": []
    },
    {
      "cell_type": "code",
      "metadata": {
        "id": "3m6Uo19tRwq3"
      },
      "source": [
        "i = 0\n",
        "image = X_test[33]\n",
        "label = y_test[i][0]\n",
        "plt.imshow(image);"
      ],
      "execution_count": null,
      "outputs": []
    },
    {
      "cell_type": "code",
      "metadata": {
        "id": "HyoYFN3ERylX"
      },
      "source": [
        "i = 0\n",
        "image = X_test[36]\n",
        "label = y_test[i][0]\n",
        "plt.imshow(image);"
      ],
      "execution_count": null,
      "outputs": []
    },
    {
      "cell_type": "code",
      "metadata": {
        "id": "w6AOTI3XR0QH"
      },
      "source": [
        "i = 0\n",
        "image = X_test[59]\n",
        "label = y_test[i][0]\n",
        "plt.imshow(image);"
      ],
      "execution_count": null,
      "outputs": []
    }
  ]
}